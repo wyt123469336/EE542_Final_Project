{
 "cells": [
  {
   "cell_type": "code",
   "execution_count": 1,
   "metadata": {
    "collapsed": false
   },
   "outputs": [
    {
     "name": "stderr",
     "output_type": "stream",
     "text": [
      "Using TensorFlow backend.\n"
     ]
    }
   ],
   "source": [
    "from keras.models import load_model\n",
    "from keras.preprocessing.text import Tokenizer\n",
    "from keras.preprocessing.sequence import pad_sequences\n",
    "import sys\n",
    "import os"
   ]
  },
  {
   "cell_type": "code",
   "execution_count": 2,
   "metadata": {
    "collapsed": true
   },
   "outputs": [],
   "source": [
    "MAX_SEQUENCE_LENGTH = 150\n",
    "MAX_NB_WORDS = 20000"
   ]
  },
  {
   "cell_type": "code",
   "execution_count": 3,
   "metadata": {
    "collapsed": true
   },
   "outputs": [],
   "source": [
    "def tokenize_data(X_raw):\n",
    "    tokenizer = Tokenizer(nb_words=MAX_NB_WORDS)\n",
    "    tokenizer.fit_on_texts(X_raw)\n",
    "    sequences = tokenizer.texts_to_sequences(X_raw)\n",
    "    word_index = tokenizer.word_index\n",
    "    X_processed = pad_sequences(sequences, maxlen=MAX_SEQUENCE_LENGTH)\n",
    "    return X_processed, word_index"
   ]
  },
  {
   "cell_type": "code",
   "execution_count": 4,
   "metadata": {
    "collapsed": true
   },
   "outputs": [],
   "source": [
    "X_raw = []\n",
    "X_raw.append(\"A new platform developed by the World Economic Forum is unlike any visualization you've seen\")"
   ]
  },
  {
   "cell_type": "code",
   "execution_count": 5,
   "metadata": {
    "collapsed": true
   },
   "outputs": [],
   "source": [
    "X_raw.append(\"Every woman who comes forward deserves to be heard, fully and completely, and our relationship to the accused should not be part of the calculation anyone makes when examining her case\")"
   ]
  },
  {
   "cell_type": "code",
   "execution_count": 7,
   "metadata": {
    "collapsed": false
   },
   "outputs": [],
   "source": [
    "model = load_model('model.h5')\n",
    "model.load_weights(\"weights.h5\")"
   ]
  },
  {
   "cell_type": "code",
   "execution_count": 8,
   "metadata": {
    "collapsed": false
   },
   "outputs": [
    {
     "name": "stderr",
     "output_type": "stream",
     "text": [
      "/Users/bowenshen/anaconda/lib/python3.6/site-packages/keras/preprocessing/text.py:145: UserWarning: The `nb_words` argument in `Tokenizer` has been renamed `num_words`.\n",
      "  warnings.warn('The `nb_words` argument in `Tokenizer` '\n"
     ]
    }
   ],
   "source": [
    "X, word_index = tokenize_data(X_raw)\n",
    "predictions = model.predict(x=X, batch_size=128)"
   ]
  },
  {
   "cell_type": "code",
   "execution_count": 9,
   "metadata": {
    "collapsed": false
   },
   "outputs": [
    {
     "name": "stdout",
     "output_type": "stream",
     "text": [
      "[ Postive ]  A new platform developed by the World Economic Forum is unlike any visualization you've seen [ 0.32697687  0.67302316]\n",
      "[ Neutral ]  Every woman who comes forward deserves to be heard, fully and completely, and our relationship to the accused should not be part of the calculation anyone makes when examining her case [ 0.64857239  0.35142764]\n"
     ]
    }
   ],
   "source": [
    "for index, txt in enumerate(X_raw):\n",
    "        #is_positive = predictions[index][1] >= 0.7\n",
    "        if predictions[index][1] >= 0.65:\n",
    "            status_txt = \"Postive\"\n",
    "        elif predictions[index][0] >= 0.65:\n",
    "            status_txt = \"Negative\"\n",
    "        else:\n",
    "            status_txt = \"Neutral\"\n",
    "        #status_txt = \"Positive\" if is_positive else \"Negative\"\n",
    "        print(\"[\",status_txt,\"] \", txt, predictions[index])"
   ]
  },
  {
   "cell_type": "code",
   "execution_count": null,
   "metadata": {
    "collapsed": true
   },
   "outputs": [],
   "source": []
  }
 ],
 "metadata": {
  "kernelspec": {
   "display_name": "Python 3",
   "language": "python",
   "name": "python3"
  },
  "language_info": {
   "codemirror_mode": {
    "name": "ipython",
    "version": 3
   },
   "file_extension": ".py",
   "mimetype": "text/x-python",
   "name": "python",
   "nbconvert_exporter": "python",
   "pygments_lexer": "ipython3",
   "version": "3.6.1"
  }
 },
 "nbformat": 4,
 "nbformat_minor": 2
}
